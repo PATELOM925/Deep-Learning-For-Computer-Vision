{
  "cells": [
    {
      "cell_type": "markdown",
      "metadata": {
        "id": "view-in-github",
        "colab_type": "text"
      },
      "source": [
        "<a href=\"https://colab.research.google.com/github/PATELOM925/Deep-Learning-For-Computer-Vision/blob/main/DL4V_Assignment_0.ipynb\" target=\"_parent\"><img src=\"https://colab.research.google.com/assets/colab-badge.svg\" alt=\"Open In Colab\"/></a>"
      ]
    },
    {
      "cell_type": "markdown",
      "metadata": {
        "id": "Sdf6X2hjDNFA"
      },
      "source": [
        "#### **Welcome to Assignment 0 on Deep Learning for Computer Vision.**\n",
        "In this assignment you will get a chance to understand and work on some of the commonly used functionalities of several Machine Learnign and Data Analysis libraries\n",
        "\n",
        "#### **Instructions**\n",
        "1. Use Python 3.x to run this notebook\n",
        "2. Write your code only in between the lines 'YOUR CODE STARTS HERE' and 'YOUR CODE ENDS HERE'.\n",
        "3. Look up the documentation for each of the Python and Numpy function used.\n",
        "4. This Assignment is just to make you understand several commonly used library functions.\n",
        "5. This assignment is **NOT** evaluated"
      ]
    },
    {
      "cell_type": "code",
      "execution_count": 1,
      "metadata": {
        "id": "9LTkyyoa9Q2K"
      },
      "outputs": [],
      "source": [
        "# DO NOT CHANGE THIS CODE\n",
        "import numpy as np\n",
        "np.random.seed(0)"
      ]
    },
    {
      "cell_type": "markdown",
      "metadata": {
        "id": "8koNOLdwDSf_"
      },
      "source": [
        "#### Python Basics\n"
      ]
    },
    {
      "cell_type": "code",
      "execution_count": 2,
      "metadata": {
        "id": "SqufR0fDDT9s"
      },
      "outputs": [],
      "source": [
        "### Implement recursive fibonacci in the function below\n",
        "def recursive_fibonacci(n):\n",
        "  if n<=0:\n",
        "    return 0\n",
        "  elif n==1:\n",
        "    return 1\n",
        "  else:\n",
        "    return recursive_fibonacci(n-2)+recursive_fibonacci(n-1)\n",
        "\n"
      ]
    },
    {
      "cell_type": "code",
      "execution_count": 7,
      "metadata": {
        "id": "rncsA0RIDTdJ",
        "outputId": "7aefe92e-f4e1-441e-834e-fd8fe0ba352c",
        "colab": {
          "base_uri": "https://localhost:8080/"
        }
      },
      "outputs": [
        {
          "output_type": "execute_result",
          "data": {
            "text/plain": [
              "8"
            ]
          },
          "metadata": {},
          "execution_count": 7
        }
      ],
      "source": [
        "### Test your code using the function call below.\n",
        "recursive_fibonacci(6)"
      ]
    },
    {
      "cell_type": "markdown",
      "metadata": {
        "id": "V0vcbpLPDXNw"
      },
      "source": [
        "#### Lambda function"
      ]
    },
    {
      "cell_type": "code",
      "execution_count": 11,
      "metadata": {
        "id": "r0eP5yH9DYum"
      },
      "outputs": [],
      "source": [
        "def sigmoid(x):\n",
        "  sigmoid = 1 / (1 + np.exp(-x))\n",
        "  return sigmoid\n",
        "\n",
        "## Implement the above sigmoid function using python lambda functions\n",
        "## YOUR CODE STARTS HER\n",
        "sigmoid_lambda = lambda x: 1 / (1 + np.exp(-x))\n"
      ]
    },
    {
      "cell_type": "code",
      "execution_count": 9,
      "metadata": {
        "id": "Z8OOFvDEKopC",
        "outputId": "375b67ef-392d-4144-f948-ea3b2e55156f",
        "colab": {
          "base_uri": "https://localhost:8080/"
        }
      },
      "outputs": [
        {
          "output_type": "execute_result",
          "data": {
            "text/plain": [
              "True"
            ]
          },
          "metadata": {},
          "execution_count": 9
        }
      ],
      "source": [
        "## Check you implementation by running this cell (should return True)\n",
        "sigmoid(1) == sigmoid_lambda(1)"
      ]
    },
    {
      "cell_type": "markdown",
      "metadata": {
        "id": "VpfxvB4pKyrm"
      },
      "source": [
        "#### List Comprehension"
      ]
    },
    {
      "cell_type": "code",
      "execution_count": 12,
      "metadata": {
        "id": "336h3e1fKt1h"
      },
      "outputs": [],
      "source": [
        "div_by_four = []\n",
        "for number in range(200):\n",
        "    if number%4 == 0:\n",
        "        div_by_four.append(number)\n",
        "\n",
        "## Implement the above function using list comprehensions\n",
        "## YOUR CODE STARTS HERE\n",
        "div_by_four_lc = [number for number in range(200) if number%4==0]\n",
        "## YOUR CODE ENDS HERE"
      ]
    },
    {
      "cell_type": "code",
      "execution_count": 13,
      "metadata": {
        "id": "sJbe5xkNKvof",
        "outputId": "57c06f1c-eb6b-413e-f7c7-8931b1af6e29",
        "colab": {
          "base_uri": "https://localhost:8080/"
        }
      },
      "outputs": [
        {
          "output_type": "execute_result",
          "data": {
            "text/plain": [
              "True"
            ]
          },
          "metadata": {},
          "execution_count": 13
        }
      ],
      "source": [
        "## Check you implementation by running this cell (should return True)\n",
        "div_by_four == div_by_four_lc"
      ]
    },
    {
      "cell_type": "markdown",
      "metadata": {
        "id": "CnmH9QeBDdqo"
      },
      "source": [
        "#### Python map keyword\n",
        "Using the lambda functions and python's map keyword apply sigmoid on a list of numbers from 0 to 99. Store the output in a list and print it.\n",
        "\n",
        "**Observe what happens to the value of sigmoid as the value of x increases. Do you see any trend?**"
      ]
    },
    {
      "cell_type": "code",
      "execution_count": 19,
      "metadata": {
        "id": "O0KFWmM6DcYF",
        "outputId": "68b2c749-67d5-4daa-823a-98982c8326b9",
        "colab": {
          "base_uri": "https://localhost:8080/"
        }
      },
      "outputs": [
        {
          "output_type": "stream",
          "name": "stdout",
          "text": [
            "[0.5, 0.7310585786300049, 0.8807970779778823, 0.9525741268224334, 0.9820137900379085, 0.9933071490757153, 0.9975273768433653, 0.9990889488055994, 0.9996646498695336, 0.9998766054240137, 0.9999546021312976, 0.999983298578152, 0.9999938558253978, 0.999997739675702, 0.9999991684719722, 0.999999694097773, 0.9999998874648379, 0.9999999586006244, 0.9999999847700205, 0.9999999943972036, 0.9999999979388463, 0.9999999992417439, 0.9999999997210531, 0.9999999998973812, 0.9999999999622486, 0.999999999986112, 0.999999999994891, 0.9999999999981204, 0.9999999999993086, 0.9999999999997455, 0.9999999999999065, 0.9999999999999656, 0.9999999999999873, 0.9999999999999953, 0.9999999999999982, 0.9999999999999993, 0.9999999999999998, 1.0, 1.0, 1.0, 1.0, 1.0, 1.0, 1.0, 1.0, 1.0, 1.0, 1.0, 1.0, 1.0, 1.0, 1.0, 1.0, 1.0, 1.0, 1.0, 1.0, 1.0, 1.0, 1.0, 1.0, 1.0, 1.0, 1.0, 1.0, 1.0, 1.0, 1.0, 1.0, 1.0, 1.0, 1.0, 1.0, 1.0, 1.0, 1.0, 1.0, 1.0, 1.0, 1.0, 1.0, 1.0, 1.0, 1.0, 1.0, 1.0, 1.0, 1.0, 1.0, 1.0, 1.0, 1.0, 1.0, 1.0, 1.0, 1.0, 1.0, 1.0, 1.0, 1.0]\n"
          ]
        }
      ],
      "source": [
        "\n",
        "# the sigmoid lambda function\n",
        "sigmoid_lambda = lambda x: 1 / (1 + np.exp(-x))\n",
        "\n",
        "# Create a list of numbers from 0 to 99\n",
        "numbers = list(range(100))\n",
        "\n",
        "# Using map to Apply sigmoid to the list of numbers\n",
        "sigmoid_values = list(map(sigmoid_lambda, numbers))\n",
        "\n",
        "# Printing sigmoid values\n",
        "print(sigmoid_values)\n",
        "\n",
        "# the trend i see in output is a plateau growth  hit by our graph after reaching\n",
        "# certain value"
      ]
    },
    {
      "cell_type": "markdown",
      "metadata": {
        "id": "VT3ZYI-I1lnd"
      },
      "source": [
        "# Numpy Basics:\n"
      ]
    },
    {
      "cell_type": "markdown",
      "metadata": {
        "id": "xK6sSYVF9fd6"
      },
      "source": [
        "#### Creating a numpy array with particular value\n"
      ]
    },
    {
      "cell_type": "code",
      "execution_count": 23,
      "metadata": {
        "id": "sSfnCu7z9sLi",
        "outputId": "7db39f3b-60f1-4de9-da5b-d921914aa95c",
        "colab": {
          "base_uri": "https://localhost:8080/"
        }
      },
      "outputs": [
        {
          "output_type": "stream",
          "name": "stdout",
          "text": [
            "[[8 8]\n",
            " [8 8]]\n"
          ]
        }
      ],
      "source": [
        "# Create a numpy array with size 2*2 with all elements as 8.\n",
        "\n",
        "# YOUR CODE STARTS HERE\n",
        "arr = np.full((2,2),8)\n",
        "print(arr)\n",
        "# YOUR CODE ENDS HERE"
      ]
    },
    {
      "cell_type": "markdown",
      "metadata": {
        "id": "GeBrhozVLuAz"
      },
      "source": [
        "#### Basic Numpy operations:"
      ]
    },
    {
      "cell_type": "code",
      "execution_count": 25,
      "metadata": {
        "id": "lGxwXbQ05J9y",
        "outputId": "2bd56f22-6100-4686-a4cb-786135789305",
        "colab": {
          "base_uri": "https://localhost:8080/"
        }
      },
      "outputs": [
        {
          "output_type": "stream",
          "name": "stdout",
          "text": [
            "[[0.38344152 0.79172504 0.52889492]\n",
            " [0.56804456 0.92559664 0.07103606]\n",
            " [0.0871293  0.0202184  0.83261985]]\n"
          ]
        }
      ],
      "source": [
        "#Create a numpy array of size 3*3 with random values\n",
        "\n",
        "#YOUR CODE STARTS HERE\n",
        "rand_arr = np.random.rand(3,3)\n",
        "print(rand_arr)\n",
        "#YOUR CODE ENDS HERE\n",
        "\n"
      ]
    },
    {
      "cell_type": "code",
      "execution_count": 28,
      "metadata": {
        "id": "cZvWczfHkrVe",
        "outputId": "d9f6eb80-4bf1-4158-8222-a77fe4c31bff",
        "colab": {
          "base_uri": "https://localhost:8080/"
        }
      },
      "outputs": [
        {
          "output_type": "stream",
          "name": "stdout",
          "text": [
            "Sum of elements: 4.208706276935631\n",
            "Mean value: 0.4676340307706257\n",
            "Maximum value: 0.925596638292661\n",
            "Minimum value: 0.02021839744032572\n"
          ]
        }
      ],
      "source": [
        "#Find the sum of all the elements, mean, maximum and minimum value of the numpy array defined above\n",
        "\n",
        "#YOUR CODE STARTS HERE\n",
        "arr_sum = np.sum(rand_arr)\n",
        "arr_mean = np.mean(rand_arr)\n",
        "arr_max = np.max(rand_arr)\n",
        "arr_min = np.min(rand_arr)\n",
        "#YOUR CODE ENDS HERE\n",
        "\n",
        "print(\"Sum of elements:\", arr_sum)\n",
        "print(\"Mean value:\", arr_mean)\n",
        "print(\"Maximum value:\", arr_max)\n",
        "print(\"Minimum value:\", arr_min)"
      ]
    },
    {
      "cell_type": "markdown",
      "metadata": {
        "id": "1h0zn0xPKoZt"
      },
      "source": [
        "#### Reshaping and Indexing of Numpy Array:"
      ]
    },
    {
      "cell_type": "code",
      "execution_count": 31,
      "metadata": {
        "id": "mUmvsP_S6O1o",
        "outputId": "fbc2fd52-f76f-42eb-86c0-ced9a9314b0e",
        "colab": {
          "base_uri": "https://localhost:8080/"
        }
      },
      "outputs": [
        {
          "output_type": "stream",
          "name": "stdout",
          "text": [
            "[ 1  2  3  4  5  6  7  8  9 10 11 12 13 14 15 16 17 18 19 20 21 22 23 24\n",
            " 25 26 27 28 29 30 31 32 33 34 35]\n"
          ]
        }
      ],
      "source": [
        "#create a 1D numpy array of shape 35 with values 1,2,3..,35\n",
        "\n",
        "#YOUR CODE STARTS HERE\n",
        "y = np.arange(1,36)\n",
        "print(y)\n",
        "#YOUR CODE ENDS HERE"
      ]
    },
    {
      "cell_type": "code",
      "execution_count": 33,
      "metadata": {
        "id": "afCQdcjgkyMS",
        "outputId": "c49f603f-5db7-4650-a4d4-6487c67385e8",
        "colab": {
          "base_uri": "https://localhost:8080/"
        }
      },
      "outputs": [
        {
          "output_type": "stream",
          "name": "stdout",
          "text": [
            "[ 1  2  3  4  5  6  7  8  9 10 11 12 13 14 15 16 17 18 19 20 21 22 23 24\n",
            " 25 26 27 28 29 30 31 32 33 34 35]\n",
            "[[ 1  2  3  4  5  6  7]\n",
            " [ 8  9 10 11 12 13 14]\n",
            " [15 16 17 18 19 20 21]\n",
            " [22 23 24 25 26 27 28]\n",
            " [29 30 31 32 33 34 35]]\n"
          ]
        }
      ],
      "source": [
        "# Reshape it as 2D array of shape (5,7)\n",
        "y1 = np.arange(1,36)\n",
        "print(y1)\n",
        "#YOUR CODE STARTS HERE\n",
        "y2 =  y1.reshape(5,7)\n",
        "#YOUR CODE ENDS HERE\n",
        "y2.shape\n",
        "print(y2)"
      ]
    },
    {
      "cell_type": "code",
      "execution_count": 35,
      "metadata": {
        "id": "E5Kjphuyk1AW",
        "outputId": "0f87dbe1-bf25-432a-e6a6-779ee8d198be",
        "colab": {
          "base_uri": "https://localhost:8080/"
        }
      },
      "outputs": [
        {
          "output_type": "stream",
          "name": "stdout",
          "text": [
            "3rd row:  [22 23 24 25 26 27 28]\n",
            "4th row:  [29 30 31 32 33 34 35]\n"
          ]
        }
      ],
      "source": [
        "# Extract all the elements from 2nd and 3rd row\n",
        "\n",
        "#YOUR CODE STARTS HERE\n",
        "\n",
        "row3 = y2[3,:]\n",
        "row4 = y2[4,:]\n",
        "\n",
        "print(\"3rd row: \",row3)\n",
        "print(\"4th row: \",row4)\n",
        "#YOUR CODE ENDS HERE"
      ]
    },
    {
      "cell_type": "code",
      "execution_count": 39,
      "metadata": {
        "id": "9zpcaEYFk21B",
        "outputId": "c88d7ffc-d8d1-4626-8240-d2030fed91e8",
        "colab": {
          "base_uri": "https://localhost:8080/"
        }
      },
      "outputs": [
        {
          "output_type": "stream",
          "name": "stdout",
          "text": [
            "3rd column:  [ 3 10 17 24 31]\n",
            "5rd column:  [ 5 12 19 26 33]\n",
            "7rd column:  [ 7 14 21 28 35]\n"
          ]
        }
      ],
      "source": [
        "# Extract all the elements from 3rd and 5th and 7th column\n",
        "\n",
        "#YOUR CODE STARTS HERE\n",
        "col3 = y2[:,2]\n",
        "col7 = y2[:,6]\n",
        "col5 = y2[:,4]\n",
        "\n",
        "print(\"3rd column: \",col3)\n",
        "print(\"5rd column: \",col5)\n",
        "print(\"7rd column: \",col7)\n",
        "\n",
        "#YOUR CODE ENDS HERE"
      ]
    },
    {
      "cell_type": "markdown",
      "metadata": {
        "id": "icAVnHAtPuq9"
      },
      "source": [
        "#### Horizontal and vertical stacking of numpy array"
      ]
    },
    {
      "cell_type": "code",
      "execution_count": 44,
      "metadata": {
        "id": "0ExpG_f7OPhB",
        "outputId": "872db4e7-d8d5-45bd-d1be-510556e535c5",
        "colab": {
          "base_uri": "https://localhost:8080/"
        }
      },
      "outputs": [
        {
          "output_type": "stream",
          "name": "stdout",
          "text": [
            "[4 2]\n",
            "[3 8]\n",
            "horrizontal stack  [4 2 3 8]\n",
            "Vertical Stack  [[4 2]\n",
            " [3 8]]\n"
          ]
        }
      ],
      "source": [
        "## horizontal and vertical stacking of 1D arrays\n",
        "a = np.array([4,2])\n",
        "b = np.array([3,8])\n",
        "\n",
        "print(a)\n",
        "print(b)\n",
        "\n",
        "#YOUR CODE STARTS HERE\n",
        "# Horizontal stacking\n",
        "h_stack = np.hstack((a,b))\n",
        "print(\"horrizontal stack \",h_stack)\n",
        "\n",
        "# Vertical Stacking\n",
        "v_stack = np.vstack((a,b))\n",
        "#YOUR CODE ENDS HERE\n",
        "print(\"Vertical Stack \",v_stack)"
      ]
    },
    {
      "cell_type": "markdown",
      "metadata": {
        "id": "v0r_IgoQYW1p"
      },
      "source": [
        "#### `argmin` and `argmax` in numpy array"
      ]
    },
    {
      "cell_type": "code",
      "execution_count": 47,
      "metadata": {
        "id": "rh7FI-uZYWXR",
        "outputId": "df84d8d5-0924-4a7e-ce80-63f9dcb0d31f",
        "colab": {
          "base_uri": "https://localhost:8080/"
        }
      },
      "outputs": [
        {
          "output_type": "stream",
          "name": "stdout",
          "text": [
            "max id  (0, 2)\n",
            "min id  (1, 2)\n",
            "max id  [1 1 0 1]\n",
            "min id  [0 0 1 0]\n",
            "max id  [2 1]\n",
            "min id  [0 2]\n"
          ]
        }
      ],
      "source": [
        "# Define an array\n",
        "arr = np.array([[5,12,51,25] ,[25,29,2,27]])\n",
        "\n",
        "# YOUR CODE STARTS HERE\n",
        "#Find the position of maximum and minimum value of above array\n",
        "max_idx = np.unravel_index(np.argmax(arr),arr.shape)\n",
        "min_idx = np.unravel_index(np.argmin(arr),arr.shape)\n",
        "print(\"max id \",max_idx)\n",
        "print(\"min id \",min_idx)\n",
        "\n",
        "#Find the indices of maximum and minimum value along each of its columns.\n",
        "max_col = np.argmax(arr,axis=0)\n",
        "min_col = np.argmin(arr,axis=0)\n",
        "print(\"max id \",max_col)\n",
        "print(\"min id \",min_col)\n",
        "#Find the indices of maximum and minimum value along each of the its rows.\n",
        "max_row = np.argmax(arr,axis=1)\n",
        "min_row = np.argmin(arr,axis=1)\n",
        "print(\"max id \",max_row)\n",
        "print(\"min id \",min_row)\n",
        "#YOUR CODE ENDS HERE"
      ]
    }
  ],
  "metadata": {
    "colab": {
      "provenance": [],
      "include_colab_link": true
    },
    "kernelspec": {
      "display_name": "Python 3",
      "language": "python",
      "name": "python3"
    },
    "language_info": {
      "codemirror_mode": {
        "name": "ipython",
        "version": 3
      },
      "file_extension": ".py",
      "mimetype": "text/x-python",
      "name": "python",
      "nbconvert_exporter": "python",
      "pygments_lexer": "ipython3",
      "version": "3.7.3"
    }
  },
  "nbformat": 4,
  "nbformat_minor": 0
}